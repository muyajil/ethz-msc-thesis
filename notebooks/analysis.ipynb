{
 "cells": [
  {
   "cell_type": "code",
   "execution_count": 7,
   "metadata": {},
   "outputs": [],
   "source": [
    "from dg_ml_core.collections import dict_ops\n",
    "import numpy as np"
   ]
  },
  {
   "cell_type": "code",
   "execution_count": 29,
   "metadata": {},
   "outputs": [
    {
     "name": "stderr",
     "output_type": "stream",
     "text": [
      "/home/muy/.local/share/virtualenvs/ethz-msc-thesis-DnoiC4PD/lib/python3.6/site-packages/google/auth/_default.py:66: UserWarning: Your application has authenticated using end user credentials from Google Cloud SDK. We recommend that most server applications use service accounts instead. If your application continues to use end user credentials from Cloud SDK, you might receive a \"quota exceeded\" or \"API not enabled\" error. For more information about service accounts, see https://cloud.google.com/docs/authentication/\n",
      "  warnings.warn(_CLOUD_SDK_CREDENTIALS_WARNING)\n",
      "/home/muy/.local/share/virtualenvs/ethz-msc-thesis-DnoiC4PD/lib/python3.6/site-packages/google/auth/_default.py:66: UserWarning: Your application has authenticated using end user credentials from Google Cloud SDK. We recommend that most server applications use service accounts instead. If your application continues to use end user credentials from Cloud SDK, you might receive a \"quota exceeded\" or \"API not enabled\" error. For more information about service accounts, see https://cloud.google.com/docs/authentication/\n",
      "  warnings.warn(_CLOUD_SDK_CREDENTIALS_WARNING)\n",
      "/home/muy/.local/share/virtualenvs/ethz-msc-thesis-DnoiC4PD/lib/python3.6/site-packages/google/auth/_default.py:66: UserWarning: Your application has authenticated using end user credentials from Google Cloud SDK. We recommend that most server applications use service accounts instead. If your application continues to use end user credentials from Cloud SDK, you might receive a \"quota exceeded\" or \"API not enabled\" error. For more information about service accounts, see https://cloud.google.com/docs/authentication/\n",
      "  warnings.warn(_CLOUD_SDK_CREDENTIALS_WARNING)\n"
     ]
    },
    {
     "name": "stdout",
     "output_type": "stream",
     "text": [
      "Property & MINI Dataset & MIDI Dataset & MAXI Dataset \\\\ \\hline\n",
      "\\#Users & 23 & 15'242 & 242'797 \\\\ \\hline\n",
      "\\#Products & 161 & 42'103 & 470'817 \\\\ \\hline\n",
      "\\#Events & 633 & 1'234'697 & 28'726'701 \\\\ \\hline\n",
      "\\#Sessions & 183 & 250'187 & 4'652'496 \\\\ \\hline\n",
      "\\#Sessions per User & 7.96 \\pm 5.41 & 16.41 \\pm 22.08 & 19.16 \\pm 28.67 \\\\ \\hline\n",
      "\\#Events per Product & 3.93 \\pm 5.84 & 29.33 \\pm 69.98 & 61.27 \\pm 263.3 \\\\ \\hline\n",
      "\\#Events per Session & 3.46 \\pm 0.82 & 4.94 \\pm 3.07 & 6.17 \\pm 60.22 \\\\ \\hline\n"
     ]
    }
   ],
   "source": [
    "def get_mean_std_string(key, dataset_stats):\n",
    "    return str(np.round(dataset_stats['mean_' + key], 2)) + ' \\\\pm ' + str(np.round(dataset_stats['std_' + key], 2))\n",
    "\n",
    "def get_grouped_number(number):\n",
    "    if len(number) > 3:\n",
    "        return f'{int(number):,}'.replace(\",\", \"'\")\n",
    "#         grouped_number = ''\n",
    "#         for digit, idx in enumerate(number[::-1]):\n",
    "#             if int(idx) % 3 == 0 and int(idx) > 0:\n",
    "#                 grouped_number += \"'\"\n",
    "#             grouped_number += str(digit)\n",
    "#         return grouped_number[::-1]\n",
    "    else:\n",
    "        return number\n",
    "\n",
    "dataset_names = ['micro', 'midi', 'maxi']\n",
    "stats_strings = dict()\n",
    "for dataset in dataset_names:\n",
    "    stats_path = f\"gs://ma-muy/03_datasets/{dataset}_dataset/03_dataset_stats.json\"\n",
    "    dataset_stats = dict_ops.load_dict(stats_path)\n",
    "    stats_strings[dataset] = []\n",
    "    stats_strings[dataset].append(get_grouped_number(str(dataset_stats['num_users'])))\n",
    "    stats_strings[dataset].append(get_grouped_number(str(dataset_stats['num_products'])))\n",
    "    stats_strings[dataset].append(get_grouped_number(str(dataset_stats['num_events'])))\n",
    "    stats_strings[dataset].append(get_grouped_number(str(dataset_stats['num_sessions'])))\n",
    "    stats_strings[dataset].append(get_mean_std_string('sessions_per_user', dataset_stats))\n",
    "    stats_strings[dataset].append(get_mean_std_string('events_per_product', dataset_stats))\n",
    "    stats_strings[dataset].append(get_mean_std_string('events_per_session', dataset_stats))\n",
    "\n",
    "headers = ['Property', 'MINI Dataset', 'MIDI Dataset', 'MAXI Dataset']\n",
    "property_names = ['\\\\#Users', '\\\\#Products', '\\\\#Events', '\\\\#Sessions', '\\\\#Sessions per User', '\\\\#Events per Product', '\\\\#Events per Session']\n",
    "print(' & '.join(headers) + ' \\\\\\\\ \\\\hline')\n",
    "for a, b, c, d in zip(property_names, stats_strings['micro'], stats_strings['midi'], stats_strings['maxi']):\n",
    "    print(f\"{a} & {b} & {c} & {d} \\\\\\\\ \\\\hline\")"
   ]
  },
  {
   "cell_type": "code",
   "execution_count": 19,
   "metadata": {},
   "outputs": [
    {
     "name": "stdout",
     "output_type": "stream",
     "text": [
      "edcba\n"
     ]
    }
   ],
   "source": [
    "a = 'abcde'\n",
    "print(a[::-1])"
   ]
  }
 ],
 "metadata": {
  "kernelspec": {
   "display_name": "thesis_base",
   "language": "python",
   "name": "thesis_base"
  },
  "language_info": {
   "codemirror_mode": {
    "name": "ipython",
    "version": 3
   },
   "file_extension": ".py",
   "mimetype": "text/x-python",
   "name": "python",
   "nbconvert_exporter": "python",
   "pygments_lexer": "ipython3",
   "version": "3.6.7"
  }
 },
 "nbformat": 4,
 "nbformat_minor": 2
}
