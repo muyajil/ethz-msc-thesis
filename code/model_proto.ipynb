{
 "cells": [
  {
   "cell_type": "code",
   "execution_count": 11,
   "metadata": {
    "slideshow": {
     "slide_type": "-"
    }
   },
   "outputs": [],
   "source": [
    "import tensorflow as tf\n",
    "from session_recommendation.hgru4rec.user_par_mini_batch import UserParallelMiniBatchDataset\n",
    "from tensorflow.contrib.cudnn_rnn import CudnnGRU\n",
    "from tensorflow.keras.layers import GRU, Dense, Dropout\n",
    "from session_recommendation.hgru4rec.hgru4rec import HGRU4Rec\n",
    "import numpy as np"
   ]
  },
  {
   "cell_type": "code",
   "execution_count": 2,
   "metadata": {},
   "outputs": [],
   "source": [
    "params = dict()\n",
    "params['num_units_session'] = 25\n",
    "params['num_units_user'] = 50\n",
    "params['num_products'] = 542346\n",
    "params['num_users'] = 307526\n",
    "params['embedding_size'] = 25\n",
    "params['user_rnn_layers'] = 2\n",
    "params['user_rnn_units'] = 50\n",
    "params['session_rnn_layers'] = 2\n",
    "params['session_rnn_units'] = 25\n",
    "params['num_negative_samples'] = 10\n",
    "params['user_dropout'] = 0.1\n",
    "params['session_dropout'] = 0.1\n",
    "params['init_dropout'] = 0.1"
   ]
  },
  {
   "cell_type": "code",
   "execution_count": 3,
   "metadata": {},
   "outputs": [
    {
     "name": "stderr",
     "output_type": "stream",
     "text": [
      "/home/muy/.local/share/virtualenvs/code-JIyQgSPM/lib/python3.6/site-packages/google/auth/_default.py:66: UserWarning: Your application has authenticated using end user credentials from Google Cloud SDK. We recommend that most server applications use service accounts instead. If your application continues to use end user credentials from Cloud SDK, you might receive a \"quota exceeded\" or \"API not enabled\" error. For more information about service accounts, see https://cloud.google.com/docs/authentication/\n",
      "  warnings.warn(_CLOUD_SDK_CREDENTIALS_WARNING)\n"
     ]
    }
   ],
   "source": [
    "# get datapoint iterator\n",
    "dataset = UserParallelMiniBatchDataset(10, 'gs://ma-muy/03_datasets/midi_dataset/05_train/')\n",
    "datapoints = dataset.feature_and_label_generator()"
   ]
  },
  {
   "cell_type": "code",
   "execution_count": 6,
   "metadata": {},
   "outputs": [
    {
     "data": {
      "text/html": [
       "<div>\n",
       "<style scoped>\n",
       "    .dataframe tbody tr th:only-of-type {\n",
       "        vertical-align: middle;\n",
       "    }\n",
       "\n",
       "    .dataframe tbody tr th {\n",
       "        vertical-align: top;\n",
       "    }\n",
       "\n",
       "    .dataframe thead th {\n",
       "        text-align: right;\n",
       "    }\n",
       "</style>\n",
       "<table border=\"1\" class=\"dataframe\">\n",
       "  <thead>\n",
       "    <tr style=\"text-align: right;\">\n",
       "      <th></th>\n",
       "      <th>EmbeddingId</th>\n",
       "      <th>LastSessionEvent</th>\n",
       "      <th>ProductId</th>\n",
       "      <th>SessionChanged</th>\n",
       "      <th>SessionId</th>\n",
       "      <th>Timestamp</th>\n",
       "      <th>UserChanged</th>\n",
       "      <th>UserEmbeddingId</th>\n",
       "      <th>UserId</th>\n",
       "      <th>LabelEmbeddingId</th>\n",
       "    </tr>\n",
       "  </thead>\n",
       "  <tbody>\n",
       "    <tr>\n",
       "      <th>0</th>\n",
       "      <td>15007</td>\n",
       "      <td>0</td>\n",
       "      <td>7022501</td>\n",
       "      <td>0</td>\n",
       "      <td>2294769417</td>\n",
       "      <td>1537532024</td>\n",
       "      <td>0</td>\n",
       "      <td>10920</td>\n",
       "      <td>3052507</td>\n",
       "      <td>15008</td>\n",
       "    </tr>\n",
       "    <tr>\n",
       "      <th>1</th>\n",
       "      <td>8007</td>\n",
       "      <td>0</td>\n",
       "      <td>2584445</td>\n",
       "      <td>0</td>\n",
       "      <td>1935612609</td>\n",
       "      <td>1527064869</td>\n",
       "      <td>0</td>\n",
       "      <td>10769</td>\n",
       "      <td>1396107</td>\n",
       "      <td>12622</td>\n",
       "    </tr>\n",
       "    <tr>\n",
       "      <th>2</th>\n",
       "      <td>3054</td>\n",
       "      <td>1</td>\n",
       "      <td>2470752</td>\n",
       "      <td>0</td>\n",
       "      <td>2242223061</td>\n",
       "      <td>1536164879</td>\n",
       "      <td>0</td>\n",
       "      <td>12048</td>\n",
       "      <td>1078807</td>\n",
       "      <td>3054</td>\n",
       "    </tr>\n",
       "    <tr>\n",
       "      <th>3</th>\n",
       "      <td>7636</td>\n",
       "      <td>1</td>\n",
       "      <td>6664094</td>\n",
       "      <td>0</td>\n",
       "      <td>2284073729</td>\n",
       "      <td>1537270494</td>\n",
       "      <td>0</td>\n",
       "      <td>12057</td>\n",
       "      <td>1894007</td>\n",
       "      <td>3700</td>\n",
       "    </tr>\n",
       "    <tr>\n",
       "      <th>4</th>\n",
       "      <td>10941</td>\n",
       "      <td>1</td>\n",
       "      <td>2481055</td>\n",
       "      <td>0</td>\n",
       "      <td>1939928352</td>\n",
       "      <td>1527194690</td>\n",
       "      <td>0</td>\n",
       "      <td>11104</td>\n",
       "      <td>2562807</td>\n",
       "      <td>7675</td>\n",
       "    </tr>\n",
       "    <tr>\n",
       "      <th>5</th>\n",
       "      <td>944</td>\n",
       "      <td>0</td>\n",
       "      <td>7513881</td>\n",
       "      <td>0</td>\n",
       "      <td>2781821874</td>\n",
       "      <td>1543692508</td>\n",
       "      <td>0</td>\n",
       "      <td>11869</td>\n",
       "      <td>966907</td>\n",
       "      <td>1547</td>\n",
       "    </tr>\n",
       "    <tr>\n",
       "      <th>6</th>\n",
       "      <td>483</td>\n",
       "      <td>1</td>\n",
       "      <td>8766371</td>\n",
       "      <td>0</td>\n",
       "      <td>2401965647</td>\n",
       "      <td>1540021323</td>\n",
       "      <td>0</td>\n",
       "      <td>12039</td>\n",
       "      <td>642707</td>\n",
       "      <td>11575</td>\n",
       "    </tr>\n",
       "    <tr>\n",
       "      <th>7</th>\n",
       "      <td>11273</td>\n",
       "      <td>0</td>\n",
       "      <td>5738828</td>\n",
       "      <td>0</td>\n",
       "      <td>2211018839</td>\n",
       "      <td>1535302767</td>\n",
       "      <td>0</td>\n",
       "      <td>11814</td>\n",
       "      <td>270707</td>\n",
       "      <td>16879</td>\n",
       "    </tr>\n",
       "    <tr>\n",
       "      <th>8</th>\n",
       "      <td>35849</td>\n",
       "      <td>1</td>\n",
       "      <td>2584235</td>\n",
       "      <td>0</td>\n",
       "      <td>2267312850</td>\n",
       "      <td>1536836822</td>\n",
       "      <td>0</td>\n",
       "      <td>12067</td>\n",
       "      <td>2754207</td>\n",
       "      <td>350</td>\n",
       "    </tr>\n",
       "    <tr>\n",
       "      <th>9</th>\n",
       "      <td>32903</td>\n",
       "      <td>0</td>\n",
       "      <td>209625</td>\n",
       "      <td>0</td>\n",
       "      <td>2197060372</td>\n",
       "      <td>1534939529</td>\n",
       "      <td>0</td>\n",
       "      <td>11162</td>\n",
       "      <td>700707</td>\n",
       "      <td>25318</td>\n",
       "    </tr>\n",
       "  </tbody>\n",
       "</table>\n",
       "</div>"
      ],
      "text/plain": [
       "   EmbeddingId  LastSessionEvent  ProductId  SessionChanged   SessionId  \\\n",
       "0        15007                 0    7022501               0  2294769417   \n",
       "1         8007                 0    2584445               0  1935612609   \n",
       "2         3054                 1    2470752               0  2242223061   \n",
       "3         7636                 1    6664094               0  2284073729   \n",
       "4        10941                 1    2481055               0  1939928352   \n",
       "5          944                 0    7513881               0  2781821874   \n",
       "6          483                 1    8766371               0  2401965647   \n",
       "7        11273                 0    5738828               0  2211018839   \n",
       "8        35849                 1    2584235               0  2267312850   \n",
       "9        32903                 0     209625               0  2197060372   \n",
       "\n",
       "    Timestamp  UserChanged  UserEmbeddingId   UserId  LabelEmbeddingId  \n",
       "0  1537532024            0            10920  3052507             15008  \n",
       "1  1527064869            0            10769  1396107             12622  \n",
       "2  1536164879            0            12048  1078807              3054  \n",
       "3  1537270494            0            12057  1894007              3700  \n",
       "4  1527194690            0            11104  2562807              7675  \n",
       "5  1543692508            0            11869   966907              1547  \n",
       "6  1540021323            0            12039   642707             11575  \n",
       "7  1535302767            0            11814   270707             16879  \n",
       "8  1536836822            0            12067  2754207               350  \n",
       "9  1534939529            0            11162   700707             25318  "
      ]
     },
     "execution_count": 6,
     "metadata": {},
     "output_type": "execute_result"
    }
   ],
   "source": [
    "batch = next(datapoints)\n",
    "batch"
   ]
  },
  {
   "cell_type": "code",
   "execution_count": 7,
   "metadata": {},
   "outputs": [],
   "source": [
    "model_instance = HGRU4Rec(params)"
   ]
  },
  {
   "cell_type": "code",
   "execution_count": 8,
   "metadata": {},
   "outputs": [],
   "source": [
    "preprocessed = model_instance._preprocess(batch)"
   ]
  },
  {
   "cell_type": "code",
   "execution_count": 13,
   "metadata": {},
   "outputs": [
    {
     "data": {
      "text/html": [
       "<div>\n",
       "<style scoped>\n",
       "    .dataframe tbody tr th:only-of-type {\n",
       "        vertical-align: middle;\n",
       "    }\n",
       "\n",
       "    .dataframe tbody tr th {\n",
       "        vertical-align: top;\n",
       "    }\n",
       "\n",
       "    .dataframe thead th {\n",
       "        text-align: right;\n",
       "    }\n",
       "</style>\n",
       "<table border=\"1\" class=\"dataframe\">\n",
       "  <thead>\n",
       "    <tr style=\"text-align: right;\">\n",
       "      <th></th>\n",
       "      <th>index</th>\n",
       "      <th>EmbeddingId</th>\n",
       "      <th>LastSessionEvent</th>\n",
       "      <th>ProductId</th>\n",
       "      <th>SessionChanged</th>\n",
       "      <th>SessionId</th>\n",
       "      <th>Timestamp</th>\n",
       "      <th>UserChanged</th>\n",
       "      <th>UserEmbeddingId</th>\n",
       "      <th>UserId</th>\n",
       "      <th>LabelEmbeddingId</th>\n",
       "      <th>UserEmbedding</th>\n",
       "      <th>SessionEmbedding</th>\n",
       "    </tr>\n",
       "  </thead>\n",
       "  <tbody>\n",
       "    <tr>\n",
       "      <th>0</th>\n",
       "      <td>0</td>\n",
       "      <td>15007</td>\n",
       "      <td>0</td>\n",
       "      <td>7022501</td>\n",
       "      <td>False</td>\n",
       "      <td>2294769417</td>\n",
       "      <td>1537532024</td>\n",
       "      <td>0</td>\n",
       "      <td>10920</td>\n",
       "      <td>3052507</td>\n",
       "      <td>15008</td>\n",
       "      <td>[2.1002574456377383, 1.0810521835487734, 0.710...</td>\n",
       "      <td>[-1.5092821519750488, 0.1699316939430801, -0.5...</td>\n",
       "    </tr>\n",
       "    <tr>\n",
       "      <th>1</th>\n",
       "      <td>1</td>\n",
       "      <td>8007</td>\n",
       "      <td>0</td>\n",
       "      <td>2584445</td>\n",
       "      <td>False</td>\n",
       "      <td>1935612609</td>\n",
       "      <td>1527064869</td>\n",
       "      <td>0</td>\n",
       "      <td>10769</td>\n",
       "      <td>1396107</td>\n",
       "      <td>12622</td>\n",
       "      <td>[-0.0022552431773172005, -0.8967108582235661, ...</td>\n",
       "      <td>[0.8880969790369566, 0.3209600599962996, 0.074...</td>\n",
       "    </tr>\n",
       "    <tr>\n",
       "      <th>2</th>\n",
       "      <td>5</td>\n",
       "      <td>944</td>\n",
       "      <td>0</td>\n",
       "      <td>7513881</td>\n",
       "      <td>False</td>\n",
       "      <td>2781821874</td>\n",
       "      <td>1543692508</td>\n",
       "      <td>0</td>\n",
       "      <td>11869</td>\n",
       "      <td>966907</td>\n",
       "      <td>1547</td>\n",
       "      <td>[0.20383387113914378, 3.3909118703028525, 1.03...</td>\n",
       "      <td>[-1.0081373799956257, -0.07003160018105213, 0....</td>\n",
       "    </tr>\n",
       "    <tr>\n",
       "      <th>3</th>\n",
       "      <td>7</td>\n",
       "      <td>11273</td>\n",
       "      <td>0</td>\n",
       "      <td>5738828</td>\n",
       "      <td>False</td>\n",
       "      <td>2211018839</td>\n",
       "      <td>1535302767</td>\n",
       "      <td>0</td>\n",
       "      <td>11814</td>\n",
       "      <td>270707</td>\n",
       "      <td>16879</td>\n",
       "      <td>[-1.8499015596523118, -0.7614199526667907, -0....</td>\n",
       "      <td>[1.5651396133348614, 0.14334714912039134, 0.85...</td>\n",
       "    </tr>\n",
       "    <tr>\n",
       "      <th>4</th>\n",
       "      <td>9</td>\n",
       "      <td>32903</td>\n",
       "      <td>0</td>\n",
       "      <td>209625</td>\n",
       "      <td>False</td>\n",
       "      <td>2197060372</td>\n",
       "      <td>1534939529</td>\n",
       "      <td>0</td>\n",
       "      <td>11162</td>\n",
       "      <td>700707</td>\n",
       "      <td>25318</td>\n",
       "      <td>[0.21223907347824056, 1.1307897374705091, -1.3...</td>\n",
       "      <td>[1.46710182317162, -0.14958971568627108, -0.60...</td>\n",
       "    </tr>\n",
       "  </tbody>\n",
       "</table>\n",
       "</div>"
      ],
      "text/plain": [
       "   index  EmbeddingId  LastSessionEvent  ProductId  SessionChanged  \\\n",
       "0      0        15007                 0    7022501           False   \n",
       "1      1         8007                 0    2584445           False   \n",
       "2      5          944                 0    7513881           False   \n",
       "3      7        11273                 0    5738828           False   \n",
       "4      9        32903                 0     209625           False   \n",
       "\n",
       "    SessionId   Timestamp  UserChanged  UserEmbeddingId   UserId  \\\n",
       "0  2294769417  1537532024            0            10920  3052507   \n",
       "1  1935612609  1527064869            0            10769  1396107   \n",
       "2  2781821874  1543692508            0            11869   966907   \n",
       "3  2211018839  1535302767            0            11814   270707   \n",
       "4  2197060372  1534939529            0            11162   700707   \n",
       "\n",
       "   LabelEmbeddingId                                      UserEmbedding  \\\n",
       "0             15008  [2.1002574456377383, 1.0810521835487734, 0.710...   \n",
       "1             12622  [-0.0022552431773172005, -0.8967108582235661, ...   \n",
       "2              1547  [0.20383387113914378, 3.3909118703028525, 1.03...   \n",
       "3             16879  [-1.8499015596523118, -0.7614199526667907, -0....   \n",
       "4             25318  [0.21223907347824056, 1.1307897374705091, -1.3...   \n",
       "\n",
       "                                    SessionEmbedding  \n",
       "0  [-1.5092821519750488, 0.1699316939430801, -0.5...  \n",
       "1  [0.8880969790369566, 0.3209600599962996, 0.074...  \n",
       "2  [-1.0081373799956257, -0.07003160018105213, 0....  \n",
       "3  [1.5651396133348614, 0.14334714912039134, 0.85...  \n",
       "4  [1.46710182317162, -0.14958971568627108, -0.60...  "
      ]
     },
     "execution_count": 13,
     "metadata": {},
     "output_type": "execute_result"
    }
   ],
   "source": [
    "preprocessed = preprocessed.astype(dtype={'SessionChanged': np.bool})\n",
    "preprocessed"
   ]
  },
  {
   "cell_type": "code",
   "execution_count": 19,
   "metadata": {},
   "outputs": [
    {
     "data": {
      "text/plain": [
       "(5,)"
      ]
     },
     "execution_count": 19,
     "metadata": {},
     "output_type": "execute_result"
    }
   ],
   "source": [
    "preprocessed['LabelEmbeddingId'].values.shape"
   ]
  },
  {
   "cell_type": "code",
   "execution_count": 20,
   "metadata": {},
   "outputs": [
    {
     "data": {
      "text/plain": [
       "(3, 2)"
      ]
     },
     "execution_count": 20,
     "metadata": {},
     "output_type": "execute_result"
    }
   ],
   "source": [
    "np.array([[1,2],[1,2],[1,2]]).shape"
   ]
  },
  {
   "cell_type": "code",
   "execution_count": 3,
   "metadata": {},
   "outputs": [],
   "source": [
    "tf.enable_eager_execution()"
   ]
  },
  {
   "cell_type": "code",
   "execution_count": 8,
   "metadata": {},
   "outputs": [
    {
     "data": {
      "text/plain": [
       "{'ProductId': <tf.Tensor: id=372, shape=(10,), dtype=int64, numpy=\n",
       " array([3230492, 6515651, 6353140, 6184828, 3514849, 6165296, 6050625,\n",
       "        6883686,  203623, 8191687])>,\n",
       " 'EmbeddingId': <tf.Tensor: id=371, shape=(10,), dtype=int64, numpy=\n",
       " array([ 8643,   478,  6460,   192, 14870,   119,  4132,  2198, 18719,\n",
       "          978])>}"
      ]
     },
     "execution_count": 8,
     "metadata": {},
     "output_type": "execute_result"
    }
   ],
   "source": [
    "labels"
   ]
  },
  {
   "cell_type": "code",
   "execution_count": 6,
   "metadata": {},
   "outputs": [
    {
     "data": {
      "text/plain": [
       "<tf.Tensor: id=367, shape=(10,), dtype=int64, numpy=\n",
       "array([2297336104, 2315256845, 2261966035, 2011006476, 2002847394,\n",
       "       2476312908, 2344520139, 2029829736, 2045943822, 2069504154])>"
      ]
     },
     "execution_count": 6,
     "metadata": {},
     "output_type": "execute_result"
    }
   ],
   "source": [
    "features['SessionId']"
   ]
  },
  {
   "cell_type": "code",
   "execution_count": 43,
   "metadata": {},
   "outputs": [
    {
     "name": "stdout",
     "output_type": "stream",
     "text": [
      "<tf.Variable 'test/num_ended_sessions:0' shape=() dtype=int64, numpy=0>\n",
      "<tf.Variable 'UnreadVariable' shape=() dtype=int64, numpy=2>\n",
      "<tf.Variable 'test/num_ended_sessions:0' shape=() dtype=int64, numpy=0>\n"
     ]
    }
   ],
   "source": [
    "with tf.variable_scope('test', tf.AUTO_REUSE):\n",
    "    a = tf.get_variable(\n",
    "        'num_ended_sessions',\n",
    "        shape=(),\n",
    "        initializer=tf.zeros_initializer(),\n",
    "        trainable=False,\n",
    "        dtype=tf.int64)\n",
    "    \n",
    "    print(a)\n",
    "    \n",
    "    a = tf.assign(\n",
    "        a,\n",
    "        tf.add(tf.reduce_sum(features['SessionChanged']),a))\n",
    "    \n",
    "    print(a)\n",
    "    \n",
    "    a = tf.get_variable(\n",
    "        'num_ended_sessions',\n",
    "        shape=(),\n",
    "        initializer=tf.zeros_initializer(),\n",
    "        trainable=False,\n",
    "        dtype=tf.int64)\n",
    "    \n",
    "    print(a)"
   ]
  },
  {
   "cell_type": "code",
   "execution_count": 15,
   "metadata": {},
   "outputs": [],
   "source": [
    "batch_size = features['UserId'].shape[0]\n",
    "\n",
    "num_ended_sessions = tf.get_variable(\n",
    "    'num_ended_sessions',\n",
    "    shape=(),\n",
    "    initializer=tf.zeros_initializer(),\n",
    "    trainable=False,\n",
    "    dtype=tf.int64)\n",
    "\n",
    "num_ended_users = tf.get_variable(\n",
    "    'num_ended_users',\n",
    "    shape=(),\n",
    "    initializer=tf.zeros_initializer(),\n",
    "    trainable=False,\n",
    "    dtype=tf.int64)\n",
    "\n",
    "# Hidden states of session_rnn\n",
    "session_hidden_states = tf.get_variable(\n",
    "    'session_hidden_states',\n",
    "    shape=(batch_size, params['session_rnn_units']),\n",
    "    initializer=tf.zeros_initializer(),\n",
    "    trainable=False)\n",
    "\n",
    "# User Embedding, updated by user_rnn\n",
    "user_embeddings = tf.get_variable(\n",
    "    'user_embeddings',\n",
    "    shape=(params['num_users'], params['user_rnn_units']),\n",
    "    initializer=tf.zeros_initializer(),\n",
    "    trainable=False)\n",
    "\n",
    "# Softmax weights to map RNN output to product space\n",
    "softmax_weights = tf.get_variable(\n",
    "    'softmax_weights',\n",
    "    shape=(params['num_products'], params['session_rnn_units']))\n",
    "\n",
    "# Biases for above\n",
    "softmax_biases = tf.get_variable(\n",
    "    'softmax_biases',\n",
    "    shape=(params['num_products'],))"
   ]
  },
  {
   "cell_type": "code",
   "execution_count": 16,
   "metadata": {},
   "outputs": [],
   "source": [
    "user_rnn = GRU(\n",
    "    # params['user_rnn_layers'],\n",
    "    params['user_rnn_units'],\n",
    "    return_state=True,\n",
    "    implementation=2,\n",
    "    dropout=params['user_dropout'],\n",
    "    kernel_initializer=tf.contrib.layers.xavier_initializer(),\n",
    "    recurrent_initializer=tf.contrib.layers.xavier_initializer(),\n",
    "    name='user_rnn')\n",
    "\n",
    "session_rnn = GRU(\n",
    "    # params['session_rnn_layers'],\n",
    "    params['session_rnn_units'],\n",
    "    return_state=True,\n",
    "    implementation=2,\n",
    "    dropout=params['session_dropout'],\n",
    "    kernel_initializer=tf.contrib.layers.xavier_initializer(),\n",
    "    recurrent_initializer=tf.contrib.layers.xavier_initializer(),\n",
    "    name='session_rnn')\n",
    "\n",
    "# Layer to predict new session initialization\n",
    "user2session_layer = Dense(\n",
    "    params['session_rnn_units'],\n",
    "    input_shape=(params['user_rnn_units'],),\n",
    "    activation='tanh',\n",
    "    name='user2session_layer')\n",
    "\n",
    "# Dropout layer for session initialization\n",
    "user2session_dropout = Dropout(params['init_dropout'])"
   ]
  },
  {
   "cell_type": "code",
   "execution_count": 21,
   "metadata": {},
   "outputs": [
    {
     "name": "stdout",
     "output_type": "stream",
     "text": [
      "tf.Tensor(4, shape=(), dtype=int64)\n",
      "tf.Tensor(2, shape=(), dtype=int64)\n"
     ]
    }
   ],
   "source": [
    "# Update stats\n",
    "num_ended_sessions = tf.add(\n",
    "    tf.reduce_sum(features['SessionChanged']),\n",
    "    num_ended_sessions)\n",
    "\n",
    "num_ended_users = tf.add(\n",
    "    tf.reduce_sum(features['UserChanged']),\n",
    "    num_ended_users)\n",
    "\n",
    "print(num_ended_sessions)\n",
    "print(num_ended_users)"
   ]
  },
  {
   "cell_type": "code",
   "execution_count": 30,
   "metadata": {},
   "outputs": [
    {
     "data": {
      "text/plain": [
       "<tf.Variable 'num_ended_sessions:0' shape=() dtype=int64, numpy=0>"
      ]
     },
     "execution_count": 30,
     "metadata": {},
     "output_type": "execute_result"
    }
   ],
   "source": [
    "tf.get_variable(\n",
    "    'num_ended_sessions',\n",
    "    shape=(),\n",
    "    initializer=tf.zeros_initializer(),\n",
    "    trainable=False,\n",
    "    dtype=tf.int64)"
   ]
  },
  {
   "cell_type": "code",
   "execution_count": 19,
   "metadata": {},
   "outputs": [
    {
     "name": "stdout",
     "output_type": "stream",
     "text": [
      "tf.Tensor([5 9], shape=(2,), dtype=int64)\n",
      "(2, 25)\n"
     ]
    }
   ],
   "source": [
    "# Get session hidden states to update\n",
    "indices_to_update = tf.squeeze(\n",
    "    tf.where(\n",
    "        tf.cast(features['SessionChanged'], tf.bool),\n",
    "        name='get_indices_to_update'\n",
    "    ),\n",
    "    axis=1\n",
    ")\n",
    "\n",
    "session_states_to_update = tf.gather(\n",
    "    session_hidden_states,\n",
    "    indices_to_update,\n",
    "    name='get_session_states_to_update'\n",
    ")\n",
    "\n",
    "print(indices_to_update)\n",
    "print(session_states_to_update.shape)"
   ]
  },
  {
   "cell_type": "code",
   "execution_count": 22,
   "metadata": {},
   "outputs": [
    {
     "name": "stdout",
     "output_type": "stream",
     "text": [
      "tf.Tensor([ 482 1389], shape=(2,), dtype=int64)\n",
      "(2, 50)\n"
     ]
    }
   ],
   "source": [
    "# Get user embeddings to update\n",
    "user_embedding_ids_to_update = tf.gather(\n",
    "    features['UserEmbeddingId'],\n",
    "    indices_to_update\n",
    ")\n",
    "\n",
    "user_embeddings_to_update = tf.nn.embedding_lookup(\n",
    "    user_embeddings,\n",
    "    user_embedding_ids_to_update\n",
    ")\n",
    "\n",
    "print(user_embedding_ids_to_update)\n",
    "print(user_embeddings_to_update.shape)"
   ]
  },
  {
   "cell_type": "code",
   "execution_count": 23,
   "metadata": {},
   "outputs": [
    {
     "name": "stdout",
     "output_type": "stream",
     "text": [
      "(2, 25)\n",
      "(2, 50)\n",
      "tf.Tensor(\n",
      "[[0. 0. 0. 0. 0. 0. 0. 0. 0. 0. 0. 0. 0. 0. 0. 0. 0. 0. 0. 0. 0. 0. 0. 0.\n",
      "  0.]\n",
      " [0. 0. 0. 0. 0. 0. 0. 0. 0. 0. 0. 0. 0. 0. 0. 0. 0. 0. 0. 0. 0. 0. 0. 0.\n",
      "  0.]], shape=(2, 25), dtype=float32)\n"
     ]
    }
   ],
   "source": [
    "# Compute new user representation for all users in current batch\n",
    "new_session_hidden_states_seed, new_user_embeddings = user_rnn.apply(\n",
    "    tf.expand_dims(session_states_to_update, 1),\n",
    "    initial_state=user_embeddings_to_update)\n",
    "\n",
    "# Predict new session initialization for next session\n",
    "new_session_hidden_states = user2session_layer.apply(\n",
    "    new_session_hidden_states_seed)\n",
    "\n",
    "new_session_hidden_states = user2session_dropout.apply(\n",
    "    new_session_hidden_states)\n",
    "\n",
    "print(new_session_hidden_states.shape)\n",
    "print(new_user_embeddings.shape)\n",
    "print(new_session_hidden_states)"
   ]
  },
  {
   "cell_type": "code",
   "execution_count": 52,
   "metadata": {},
   "outputs": [
    {
     "name": "stdout",
     "output_type": "stream",
     "text": [
      "(10, 25)\n"
     ]
    }
   ],
   "source": [
    "scattered_new_states = tf.scatter_nd(\n",
    "        tf.cast(tf.expand_dims(indices_to_update, axis=1), tf.int32),\n",
    "        new_session_hidden_states,\n",
    "        tf.shape(session_hidden_states)\n",
    "    )\n",
    "print(scattered_new_states.shape)"
   ]
  },
  {
   "cell_type": "code",
   "execution_count": 26,
   "metadata": {},
   "outputs": [],
   "source": [
    "# Reset Session Hidden States to 0 when a user has ended\n",
    "session_hidden_states = tf.where(\n",
    "    tf.cast(features['UserChanged'], tf.bool),\n",
    "    tf.zeros(tf.shape(session_hidden_states)),\n",
    "    session_hidden_states,\n",
    "    name='reset_session_hidden_states')"
   ]
  },
  {
   "cell_type": "code",
   "execution_count": 48,
   "metadata": {},
   "outputs": [
    {
     "name": "stdout",
     "output_type": "stream",
     "text": [
      "tf.Tensor([0 1 2 3 4 5 6 7 8 9], shape=(10,), dtype=int64)\n",
      "tf.Tensor([0 2 3 4 5 7 8 9], shape=(8,), dtype=int64)\n",
      "tf.Tensor([0 2 3 4 5 7 8 9], shape=(8,), dtype=int64)\n"
     ]
    }
   ],
   "source": [
    "# Compute mask for missing users\n",
    "existing_user_indices = tf.squeeze(tf.where(tf.not_equal(features['UserId'], -1)))\n",
    "\n",
    "print(existing_user_indices)\n",
    "\n",
    "# Compute mask for ending sessions\n",
    "contiuing_session_indices = tf.squeeze(tf.where(\n",
    "        tf.logical_not(\n",
    "            tf.cast(features['LastSessionEvent'], tf.bool))))\n",
    "\n",
    "print(contiuing_session_indices)\n",
    "\n",
    "# Compute relevant indices\n",
    "relevant_indices = tf.squeeze(\n",
    "    tf.sparse.to_dense(\n",
    "        tf.sets.intersection(\n",
    "            existing_user_indices[None, :],\n",
    "            contiuing_session_indices[None, :]\n",
    "        )\n",
    "    ),\n",
    "    axis=0)\n",
    "\n",
    "print(relevant_indices)"
   ]
  },
  {
   "cell_type": "code",
   "execution_count": null,
   "metadata": {},
   "outputs": [],
   "source": []
  },
  {
   "cell_type": "code",
   "execution_count": 12,
   "metadata": {},
   "outputs": [],
   "source": [
    "# Compute new user representation for all users in current batch\n",
    "new_session_hidden_states_seed, new_user_hidden_states = user_rnn.apply(\n",
    "    tf.expand_dims(session_hidden_states, 1),\n",
    "    initial_state=user_hidden_states)\n",
    "\n",
    "# Predict new session initialization for next session\n",
    "new_session_hidden_states = user2session_layer.apply(\n",
    "    new_session_hidden_states_seed)\n",
    "\n",
    "new_session_hidden_states = user2session_dropout.apply(\n",
    "    new_session_hidden_states\n",
    ")"
   ]
  },
  {
   "cell_type": "code",
   "execution_count": 13,
   "metadata": {},
   "outputs": [],
   "source": [
    "# Select new session initialization for new sessions\n",
    "session_hidden_states = tf.where(\n",
    "    ended_sessions_mask,\n",
    "    new_session_hidden_states,\n",
    "    session_hidden_states,\n",
    "    name='initialize_new_sessions')\n",
    "\n",
    "# Update user hidden states where the session ended\n",
    "user_hidden_states = tf.where(\n",
    "    ended_sessions_mask,\n",
    "    new_user_hidden_states,\n",
    "    user_hidden_states,\n",
    "    name='update_user_representation'\n",
    ")"
   ]
  },
  {
   "cell_type": "code",
   "execution_count": 26,
   "metadata": {},
   "outputs": [],
   "source": [
    "# Compute new mask for ended sessions\n",
    "ended_sessions_mask = tf.cast(\n",
    "    tf.where(\n",
    "        tf.equal(features['ProductId'], -1),\n",
    "        tf.ones(tf.shape(ended_sessions_mask)),\n",
    "        tf.zeros(tf.shape(ended_sessions_mask)),\n",
    "        name='compute_ended_sessions'),\n",
    "    tf.bool)\n",
    "\n",
    "# Compute new mask for ending sessions\n",
    "ending_sessions_mask = tf.cast(\n",
    "    tf.where(\n",
    "        tf.equal(labels['ProductId'], -1),\n",
    "        tf.ones(tf.shape(ending_sessions_mask)),\n",
    "        tf.zeros(tf.shape(ending_sessions_mask)),\n",
    "        name='compute_ending_sessions'),\n",
    "    tf.bool)\n",
    "\n",
    "# Compute new mask for ended users\n",
    "ended_users_mask = tf.cast(\n",
    "    tf.where(\n",
    "        tf.equal(features['UserId'], -1),\n",
    "        tf.ones(tf.shape(ended_users_mask)),\n",
    "        tf.zeros(tf.shape(ended_users_mask)),\n",
    "        name='compute_ended_users'),\n",
    "    tf.bool)"
   ]
  },
  {
   "cell_type": "code",
   "execution_count": 27,
   "metadata": {},
   "outputs": [],
   "source": [
    "# Relevant sessions have not ended and do not end in the next step\n",
    "relevant_sessions_mask = tf.logical_not(\n",
    "    tf.logical_or(\n",
    "        ended_sessions_mask,\n",
    "        ending_sessions_mask))\n",
    "\n",
    "# Get one-hot encoding of products\n",
    "relevant_one_hots = tf.map_fn(\n",
    "    lambda x: tf.cond(\n",
    "        x[1],\n",
    "        lambda: tf.one_hot(x[0], params['num_products']),\n",
    "        lambda: tf.zeros(params['num_products'])\n",
    "    ),\n",
    "    [\n",
    "        features['EmbeddingId'],\n",
    "        relevant_sessions_mask\n",
    "    ],\n",
    "    dtype=tf.float32,\n",
    "    name='get_relevant_one_hots')\n",
    "\n",
    "# Get session hidden states for relevant sessions\n",
    "relevant_hidden_states = tf.where(\n",
    "    relevant_sessions_mask,\n",
    "    session_hidden_states,\n",
    "    tf.zeros(tf.shape(session_hidden_states)),\n",
    "    name='get_relevant_session_hidden_states'\n",
    ")"
   ]
  },
  {
   "cell_type": "code",
   "execution_count": 28,
   "metadata": {},
   "outputs": [
    {
     "data": {
      "text/plain": [
       "TensorShape([Dimension(10), Dimension(2600000)])"
      ]
     },
     "execution_count": 28,
     "metadata": {},
     "output_type": "execute_result"
    }
   ],
   "source": [
    "relevant_one_hots.shape"
   ]
  },
  {
   "cell_type": "code",
   "execution_count": 29,
   "metadata": {},
   "outputs": [],
   "source": [
    "# Apply Session RNN -> get new hidden states and predictions\n",
    "predictions, new_session_hidden_states = session_rnn.apply(\n",
    "    tf.expand_dims(relevant_one_hots, 1),\n",
    "    initial_state=relevant_hidden_states)"
   ]
  },
  {
   "cell_type": "code",
   "execution_count": 21,
   "metadata": {},
   "outputs": [],
   "source": [
    "# Filter out irrelevant predictions\n",
    "predictions = tf.boolean_mask(\n",
    "    predictions,\n",
    "    relevant_sessions_mask,\n",
    "    name='filter_irrelevant_predictions')\n",
    "\n",
    "# Update session hidden states for relevant sessions\n",
    "session_hidden_states = tf.where(\n",
    "    relevant_sessions_mask,\n",
    "    new_session_hidden_states,\n",
    "    session_hidden_states,\n",
    "    name='update_relevant_session_hidden_states')\n",
    "\n",
    "# Extract relevant labels\n",
    "relevant_labels = tf.boolean_mask(\n",
    "    labels['EmbeddingId'],\n",
    "    relevant_sessions_mask,\n",
    "    name='filter_irrelevant_labels')\n",
    "\n",
    "# Compute logits for product predictions\n",
    "logits = tf.matmul(\n",
    "    predictions,\n",
    "    softmax_weights,\n",
    "    transpose_b=True) + softmax_biases\n",
    "\n",
    "# Apply softmax activation\n",
    "softmax_predictions = tf.nn.softmax(logits)"
   ]
  },
  {
   "cell_type": "code",
   "execution_count": 22,
   "metadata": {},
   "outputs": [
    {
     "data": {
      "text/plain": [
       "<tf.Tensor: id=1184, shape=(2,), dtype=int32, numpy=array([     10, 2600000], dtype=int32)>"
      ]
     },
     "execution_count": 22,
     "metadata": {},
     "output_type": "execute_result"
    }
   ],
   "source": [
    "tf.shape(softmax_predictions)"
   ]
  },
  {
   "cell_type": "code",
   "execution_count": 43,
   "metadata": {},
   "outputs": [],
   "source": [
    "# Compute Hitrate\n",
    "\n",
    "in_top_k = tf.nn.in_top_k(softmax_predictions, relevant_labels, 5)\n",
    "hitrate = tf.divide(\n",
    "    tf.reduce_sum(tf.cast(in_top_k, tf.int64)),\n",
    "    tf.shape(labels)[0])"
   ]
  },
  {
   "cell_type": "code",
   "execution_count": 47,
   "metadata": {},
   "outputs": [],
   "source": [
    "# Compute Loss Function\n",
    "\n",
    "negative_samples_weights = tf.nn.embedding_lookup(softmax_weights, relevant_labels)\n",
    "negative_samples_biases = tf.nn.embedding_lookup(softmax_biases, relevant_labels)\n",
    "\n",
    "logits = tf.matmul(predicted_embeddings, negative_samples_weights, transpose_b=True) + negative_samples_biases\n",
    "yhat = tf.nn.softmax(logits) # for each of the examples in the batch we select the remainder of the minibatch as negative examples\n",
    "\n",
    "# TOP 1 Loss function\n",
    "yhatT = tf.transpose(yhat)\n",
    "term1 = tf.reduce_mean(tf.nn.sigmoid(-tf.diag_part(yhat)+yhatT)+tf.nn.sigmoid(yhatT**2), axis=0)\n",
    "term2 = tf.nn.sigmoid(tf.diag_part(yhat)**2) / batch_size.value\n",
    "loss = tf.reduce_mean(term1 - term2)"
   ]
  },
  {
   "cell_type": "code",
   "execution_count": 48,
   "metadata": {},
   "outputs": [
    {
     "data": {
      "text/plain": [
       "<tf.Tensor: id=2867, shape=(), dtype=float32, numpy=0.9640579>"
      ]
     },
     "execution_count": 48,
     "metadata": {},
     "output_type": "execute_result"
    }
   ],
   "source": [
    "predi"
   ]
  },
  {
   "cell_type": "code",
   "execution_count": 55,
   "metadata": {},
   "outputs": [
    {
     "ename": "RuntimeError",
     "evalue": "`loss` passed to Optimizer.compute_gradients should be a function when eager execution is enabled.",
     "output_type": "error",
     "traceback": [
      "\u001b[0;31m---------------------------------------------------------------------------\u001b[0m",
      "\u001b[0;31mRuntimeError\u001b[0m                              Traceback (most recent call last)",
      "\u001b[0;32m<ipython-input-55-c9a5cbb247ec>\u001b[0m in \u001b[0;36m<module>\u001b[0;34m\u001b[0m\n\u001b[1;32m      1\u001b[0m \u001b[0;31m# Optimize\u001b[0m\u001b[0;34m\u001b[0m\u001b[0;34m\u001b[0m\u001b[0;34m\u001b[0m\u001b[0m\n\u001b[1;32m      2\u001b[0m \u001b[0moptimizer\u001b[0m \u001b[0;34m=\u001b[0m \u001b[0mtf\u001b[0m\u001b[0;34m.\u001b[0m\u001b[0mtrain\u001b[0m\u001b[0;34m.\u001b[0m\u001b[0mAdamOptimizer\u001b[0m\u001b[0;34m(\u001b[0m\u001b[0;34m)\u001b[0m\u001b[0;34m\u001b[0m\u001b[0;34m\u001b[0m\u001b[0m\n\u001b[0;32m----> 3\u001b[0;31m \u001b[0mtrain_op\u001b[0m \u001b[0;34m=\u001b[0m \u001b[0moptimizer\u001b[0m\u001b[0;34m.\u001b[0m\u001b[0mminimize\u001b[0m\u001b[0;34m(\u001b[0m\u001b[0mloss\u001b[0m\u001b[0;34m,\u001b[0m \u001b[0mglobal_step\u001b[0m\u001b[0;34m=\u001b[0m\u001b[0mtf\u001b[0m\u001b[0;34m.\u001b[0m\u001b[0mtrain\u001b[0m\u001b[0;34m.\u001b[0m\u001b[0mget_or_create_global_step\u001b[0m\u001b[0;34m(\u001b[0m\u001b[0;34m)\u001b[0m\u001b[0;34m)\u001b[0m\u001b[0;34m\u001b[0m\u001b[0;34m\u001b[0m\u001b[0m\n\u001b[0m",
      "\u001b[0;32m~/.local/share/virtualenvs/code-JIyQgSPM/lib/python3.6/site-packages/tensorflow/python/training/optimizer.py\u001b[0m in \u001b[0;36mminimize\u001b[0;34m(self, loss, global_step, var_list, gate_gradients, aggregation_method, colocate_gradients_with_ops, name, grad_loss)\u001b[0m\n\u001b[1;32m    401\u001b[0m         \u001b[0maggregation_method\u001b[0m\u001b[0;34m=\u001b[0m\u001b[0maggregation_method\u001b[0m\u001b[0;34m,\u001b[0m\u001b[0;34m\u001b[0m\u001b[0;34m\u001b[0m\u001b[0m\n\u001b[1;32m    402\u001b[0m         \u001b[0mcolocate_gradients_with_ops\u001b[0m\u001b[0;34m=\u001b[0m\u001b[0mcolocate_gradients_with_ops\u001b[0m\u001b[0;34m,\u001b[0m\u001b[0;34m\u001b[0m\u001b[0;34m\u001b[0m\u001b[0m\n\u001b[0;32m--> 403\u001b[0;31m         grad_loss=grad_loss)\n\u001b[0m\u001b[1;32m    404\u001b[0m \u001b[0;34m\u001b[0m\u001b[0m\n\u001b[1;32m    405\u001b[0m     \u001b[0mvars_with_grad\u001b[0m \u001b[0;34m=\u001b[0m \u001b[0;34m[\u001b[0m\u001b[0mv\u001b[0m \u001b[0;32mfor\u001b[0m \u001b[0mg\u001b[0m\u001b[0;34m,\u001b[0m \u001b[0mv\u001b[0m \u001b[0;32min\u001b[0m \u001b[0mgrads_and_vars\u001b[0m \u001b[0;32mif\u001b[0m \u001b[0mg\u001b[0m \u001b[0;32mis\u001b[0m \u001b[0;32mnot\u001b[0m \u001b[0;32mNone\u001b[0m\u001b[0;34m]\u001b[0m\u001b[0;34m\u001b[0m\u001b[0;34m\u001b[0m\u001b[0m\n",
      "\u001b[0;32m~/.local/share/virtualenvs/code-JIyQgSPM/lib/python3.6/site-packages/tensorflow/python/training/optimizer.py\u001b[0m in \u001b[0;36mcompute_gradients\u001b[0;34m(self, loss, var_list, gate_gradients, aggregation_method, colocate_gradients_with_ops, grad_loss)\u001b[0m\n\u001b[1;32m    479\u001b[0m     \u001b[0;32mif\u001b[0m \u001b[0mcontext\u001b[0m\u001b[0;34m.\u001b[0m\u001b[0mexecuting_eagerly\u001b[0m\u001b[0;34m(\u001b[0m\u001b[0;34m)\u001b[0m\u001b[0;34m:\u001b[0m\u001b[0;34m\u001b[0m\u001b[0;34m\u001b[0m\u001b[0m\n\u001b[1;32m    480\u001b[0m       raise RuntimeError(\n\u001b[0;32m--> 481\u001b[0;31m           \u001b[0;34m\"`loss` passed to Optimizer.compute_gradients should \"\u001b[0m\u001b[0;34m\u001b[0m\u001b[0;34m\u001b[0m\u001b[0m\n\u001b[0m\u001b[1;32m    482\u001b[0m           \"be a function when eager execution is enabled.\")\n\u001b[1;32m    483\u001b[0m \u001b[0;34m\u001b[0m\u001b[0m\n",
      "\u001b[0;31mRuntimeError\u001b[0m: `loss` passed to Optimizer.compute_gradients should be a function when eager execution is enabled."
     ]
    }
   ],
   "source": [
    "# Optimize\n",
    "optimizer = tf.train.AdamOptimizer()\n",
    "train_op = optimizer.minimize(loss, global_step=tf.train.get_or_create_global_step())"
   ]
  },
  {
   "cell_type": "code",
   "execution_count": 16,
   "metadata": {},
   "outputs": [
    {
     "data": {
      "text/plain": [
       "<tf.Tensor: id=639, shape=(10, 25), dtype=float32, numpy=\n",
       "array([[0., 0., 0., 0., 0., 0., 0., 0., 0., 0., 0., 0., 0., 0., 0., 0.,\n",
       "        0., 0., 0., 0., 0., 0., 0., 0., 0.],\n",
       "       [0., 0., 0., 0., 0., 0., 0., 0., 0., 0., 0., 0., 0., 0., 0., 0.,\n",
       "        0., 0., 0., 0., 0., 0., 0., 0., 0.],\n",
       "       [0., 0., 0., 0., 0., 0., 0., 0., 0., 0., 0., 0., 0., 0., 0., 0.,\n",
       "        0., 0., 0., 0., 0., 0., 0., 0., 0.],\n",
       "       [0., 0., 0., 0., 0., 0., 0., 0., 0., 0., 0., 0., 0., 0., 0., 0.,\n",
       "        0., 0., 0., 0., 0., 0., 0., 0., 0.],\n",
       "       [0., 0., 0., 0., 0., 0., 0., 0., 0., 0., 0., 0., 0., 0., 0., 0.,\n",
       "        0., 0., 0., 0., 0., 0., 0., 0., 0.],\n",
       "       [0., 0., 0., 0., 0., 0., 0., 0., 0., 0., 0., 0., 0., 0., 0., 0.,\n",
       "        0., 0., 0., 0., 0., 0., 0., 0., 0.],\n",
       "       [0., 0., 0., 0., 0., 0., 0., 0., 0., 0., 0., 0., 0., 0., 0., 0.,\n",
       "        0., 0., 0., 0., 0., 0., 0., 0., 0.],\n",
       "       [0., 0., 0., 0., 0., 0., 0., 0., 0., 0., 0., 0., 0., 0., 0., 0.,\n",
       "        0., 0., 0., 0., 0., 0., 0., 0., 0.],\n",
       "       [0., 0., 0., 0., 0., 0., 0., 0., 0., 0., 0., 0., 0., 0., 0., 0.,\n",
       "        0., 0., 0., 0., 0., 0., 0., 0., 0.],\n",
       "       [0., 0., 0., 0., 0., 0., 0., 0., 0., 0., 0., 0., 0., 0., 0., 0.,\n",
       "        0., 0., 0., 0., 0., 0., 0., 0., 0.]], dtype=float32)>"
      ]
     },
     "execution_count": 16,
     "metadata": {},
     "output_type": "execute_result"
    }
   ],
   "source": [
    "session_hidden_states"
   ]
  }
 ],
 "metadata": {
  "kernelspec": {
   "display_name": "thesis_models",
   "language": "python",
   "name": "thesis_models"
  },
  "language_info": {
   "codemirror_mode": {
    "name": "ipython",
    "version": 3
   },
   "file_extension": ".py",
   "mimetype": "text/x-python",
   "name": "python",
   "nbconvert_exporter": "python",
   "pygments_lexer": "ipython3",
   "version": "3.6.7"
  }
 },
 "nbformat": 4,
 "nbformat_minor": 2
}
